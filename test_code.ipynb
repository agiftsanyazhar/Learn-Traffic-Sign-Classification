{
 "cells": [
  {
   "cell_type": "code",
   "execution_count": 4,
   "metadata": {},
   "outputs": [],
   "source": [
    "###############################\n",
    "############################### Test Code\n",
    "###############################\n",
    "import numpy as np\n",
    "import cv2\n",
    "import pickle\n",
    "from tensorflow.keras.models import load_model"
   ]
  },
  {
   "cell_type": "code",
   "execution_count": 5,
   "metadata": {},
   "outputs": [],
   "source": [
    "#############################################\n",
    "frameWidth = 640  # CAMERA RESOLUTION\n",
    "frameHeight = 480\n",
    "brightness = 180\n",
    "threshold = 0.75  # PROBABILITY THRESHOLD\n",
    "font = cv2.FONT_HERSHEY_SIMPLEX\n",
    "##############################################"
   ]
  },
  {
   "cell_type": "code",
   "execution_count": 6,
   "metadata": {},
   "outputs": [],
   "source": [
    "# SETUP THE VIDEO CAMERA\n",
    "cap = cv2.VideoCapture(0)\n",
    "cap.set(3, frameWidth)\n",
    "cap.set(4, frameHeight)\n",
    "cap.set(10, brightness)\n",
    "\n",
    "# # IMPORT THE TRAINED MODEL\n",
    "# pickle_in = open(\"model_trained.p\", \"rb\")  ## rb = READ BYTE\n",
    "# model = pickle.load(pickle_in)\n",
    "model = load_model(\"model_trained.h5\")"
   ]
  },
  {
   "cell_type": "code",
   "execution_count": 23,
   "metadata": {},
   "outputs": [],
   "source": [
    "def grayscale(img):\n",
    "    img = cv2.cvtColor(img, cv2.COLOR_BGR2GRAY)\n",
    "    return img\n",
    "\n",
    "\n",
    "def equalize(img):\n",
    "    img = cv2.equalizeHist(img)\n",
    "    return img\n",
    "\n",
    "\n",
    "def preprocessing(img):\n",
    "    img = grayscale(img)\n",
    "    img = equalize(img)\n",
    "    img = img / 255\n",
    "    return img\n",
    "\n",
    "\n",
    "def getCalssName(classNo):\n",
    "    # Your class names mapping function here\n",
    "    pass"
   ]
  },
  {
   "cell_type": "code",
   "execution_count": 24,
   "metadata": {},
   "outputs": [],
   "source": [
    "while True:\n",
    "\n",
    "    # READ IMAGE\n",
    "    success, imgOrignal = cap.read()\n",
    "\n",
    "    # PROCESS IMAGE\n",
    "    img = np.asarray(imgOrignal)\n",
    "    img = cv2.resize(img, (32, 32))\n",
    "    img = preprocessing(img)\n",
    "    cv2.imshow(\"Processed Image\", img)\n",
    "    img = img.reshape(1, 32, 32, 1)\n",
    "    cv2.putText(\n",
    "        imgOrignal, \"CLASS: \", (20, 35), font, 0.75, (0, 0, 255), 2, cv2.LINE_AA\n",
    "    )\n",
    "    cv2.putText(\n",
    "        imgOrignal, \"PROBABILITY: \", (20, 75), font, 0.75, (0, 0, 255), 2, cv2.LINE_AA\n",
    "    )\n",
    "    # PREDICT IMAGE\n",
    "    predictions = model.predict(img)\n",
    "    classIndex = np.argmax(predictions)\n",
    "    probabilityValue = np.amax(predictions)\n",
    "    if probabilityValue > threshold:\n",
    "        cv2.putText(\n",
    "            imgOrignal,\n",
    "            str(classIndex) + \" \" + str(getCalssName(classIndex)),\n",
    "            (120, 35),\n",
    "            font,\n",
    "            0.75,\n",
    "            (0, 0, 255),\n",
    "            2,\n",
    "            cv2.LINE_AA,\n",
    "        )\n",
    "        cv2.putText(\n",
    "            imgOrignal,\n",
    "            str(round(probabilityValue * 100, 2)) + \"%\",\n",
    "            (180, 75),\n",
    "            font,\n",
    "            0.75,\n",
    "            (0, 0, 255),\n",
    "            2,\n",
    "            cv2.LINE_AA,\n",
    "        )\n",
    "    cv2.imshow(\"Result\", imgOrignal)\n",
    "\n",
    "    if cv2.waitKey(1) & 0xFF == ord(\"q\"):\n",
    "        break\n",
    "\n",
    "cap.release()\n",
    "cv2.destroyAllWindows()"
   ]
  }
 ],
 "metadata": {
  "kernelspec": {
   "display_name": ".venv",
   "language": "python",
   "name": "python3"
  },
  "language_info": {
   "codemirror_mode": {
    "name": "ipython",
    "version": 3
   },
   "file_extension": ".py",
   "mimetype": "text/x-python",
   "name": "python",
   "nbconvert_exporter": "python",
   "pygments_lexer": "ipython3",
   "version": "3.9.13"
  },
  "orig_nbformat": 4
 },
 "nbformat": 4,
 "nbformat_minor": 2
}
